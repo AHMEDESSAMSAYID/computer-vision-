{
 "cells": [
  {
   "cell_type": "code",
   "execution_count": null,
   "id": "9154cf8d",
   "metadata": {},
   "outputs": [],
   "source": []
  },
  {
   "cell_type": "code",
   "execution_count": 3,
   "id": "c2fb2272",
   "metadata": {},
   "outputs": [],
   "source": [
    "import cv2\n",
    "import imutils\n",
    "import numpy as np\n",
    "import os\n",
    "import matplotlib.pyplot as plt\n"
   ]
  },
  {
   "cell_type": "code",
   "execution_count": 4,
   "id": "f2a78b2c",
   "metadata": {},
   "outputs": [],
   "source": [
    "import pytesseract\n",
    "pytesseract.pytesseract.tesseract_cmd = r'C:\\Users\\USER\\AppData\\Local\\Tesseract-OCR\\tesseract.exe'"
   ]
  },
  {
   "cell_type": "code",
   "execution_count": 5,
   "id": "f76a167c",
   "metadata": {},
   "outputs": [],
   "source": [
    "os.chdir(\"D:\\cars\")"
   ]
  },
  {
   "cell_type": "code",
   "execution_count": 35,
   "id": "b4b92bf6",
   "metadata": {},
   "outputs": [],
   "source": [
    "img=cv2.imread(\"2.jpg\")\n",
    "img=cv2.resize(img,(600,400))"
   ]
  },
  {
   "cell_type": "code",
   "execution_count": 36,
   "id": "496998eb",
   "metadata": {},
   "outputs": [],
   "source": [
    "gray=cv2.cvtColor(img,cv2.COLOR_BGR2GRAY)\n",
    "gray=cv2.bilateralFilter(gray,13,15,15)"
   ]
  },
  {
   "cell_type": "code",
   "execution_count": 37,
   "id": "e13b85a3",
   "metadata": {},
   "outputs": [],
   "source": [
    "edged=cv2.Canny(gray,30,200)\n",
    "contours =cv2.findContours(edged.copy(),cv2.RETR_TREE,cv2.CHAIN_APPROX_SIMPLE)\n",
    "contours=imutils.grab_contours(contours)\n",
    "contours=sorted(contours,key=cv2.contourArea,reverse=True)[:10]\n",
    "screenCnt = None"
   ]
  },
  {
   "cell_type": "code",
   "execution_count": 38,
   "id": "e3a4f5db",
   "metadata": {},
   "outputs": [],
   "source": [
    "for c in contours :\n",
    "    peri = cv2.arcLength(c,True)\n",
    "    approx=cv2.approxPolyDP(c,0.018*peri,True)\n",
    "    if len(approx)==4:\n",
    "        \n",
    "        screenCnt=approx\n",
    "        break"
   ]
  },
  {
   "cell_type": "code",
   "execution_count": 39,
   "id": "744beeb2",
   "metadata": {},
   "outputs": [],
   "source": [
    "if screenCnt is None:\n",
    "    detected = 0\n",
    "    print('no')\n",
    "else:\n",
    "    detected = 1\n",
    "if detected ==1:\n",
    "    cv2.drawContours(img,[screenCnt],-1,(0,0,255),3)"
   ]
  },
  {
   "cell_type": "code",
   "execution_count": 40,
   "id": "ebe6018a",
   "metadata": {},
   "outputs": [
    {
     "data": {
      "text/plain": [
       "<matplotlib.image.AxesImage at 0x2413c9761d0>"
      ]
     },
     "execution_count": 40,
     "metadata": {},
     "output_type": "execute_result"
    },
    {
     "data": {
      "image/png": "[encoded data removed]",
      "text/plain": [
       "<Figure size 640x480 with 1 Axes>"
      ]
     },
     "metadata": {},
     "output_type": "display_data"
    }
   ],
   "source": [
    "mask= np.zeros(gray.shape,np.uint8)\n",
    "\n",
    "new_image=cv2.drawContours(mask,[screenCnt],0,255,-1,)\n",
    "new_image=cv2.bitwise_and(gray,gray,mask=mask)\n",
    "plt.imshow(new_image)"
   ]
  },
  {
   "cell_type": "code",
   "execution_count": null,
   "id": "29f8748a",
   "metadata": {},
   "outputs": [],
   "source": []
  },
  {
   "cell_type": "code",
   "execution_count": 41,
   "id": "d59641c1",
   "metadata": {},
   "outputs": [],
   "source": [
    "(x, y) = np.where(mask == 255)\n",
    "(topx, topy) = (np.min(x), np.min(y))\n",
    "(bottomx, bottomy) = (np.max(x), np.max(y))\n",
    "Cropped = gray[topx:bottomx+1, topy:bottomy+1]"
   ]
  },
  {
   "cell_type": "code",
   "execution_count": null,
   "id": "ed440045",
   "metadata": {},
   "outputs": [],
   "source": []
  },
  {
   "cell_type": "code",
   "execution_count": 42,
   "id": "08e054cf",
   "metadata": {},
   "outputs": [],
   "source": [
    "pytesseract.pytesseract.tesseract_cmd = r\"C:\\Users\\DellPc\\AppData\\Local\\Programs\\Tesseract-OCR\\tesseract.exe\"\n",
    "import pytesseract"
   ]
  },
  {
   "cell_type": "code",
   "execution_count": 45,
   "id": "74881472",
   "metadata": {},
   "outputs": [
    {
     "name": "stdout",
     "output_type": "stream",
     "text": [
      "plaka tanıma programlaması\n",
      "\n",
      "Plaka Numarası: 443918 |\n",
      "\n"
     ]
    }
   ],
   "source": [
    "text= pytesseract.image_to_string(Cropped, config='--psm 11')\n",
    "print(\"plaka tanıma programlaması\\n\")\n",
    "print(\"Plaka Numarası:\",text)\n",
    "img=cv2.resize(img,(500,300))\n",
    "Cropped=cv2.resize(Cropped,(400,200))\n",
    "cv2.imshow('araba',img)\n",
    "cv2.imshow('kırpıldı',Cropped)\n",
    "cv2.waitKey(0)\n",
    "cv2.destroyAllWindows()"
   ]
  },
  {
   "cell_type": "code",
   "execution_count": null,
   "id": "e87f4aa3",
   "metadata": {},
   "outputs": [],
   "source": []
  },
  {
   "cell_type": "code",
   "execution_count": null,
   "id": "9d178864",
   "metadata": {},
   "outputs": [],
   "source": []
  },
  {
   "cell_type": "code",
   "execution_count": null,
   "id": "bc0b6d76",
   "metadata": {},
   "outputs": [],
   "source": [
    "\n"
   ]
  },
  {
   "cell_type": "code",
   "execution_count": null,
   "id": "41fda50b",
   "metadata": {},
   "outputs": [],
   "source": []
  }
 ],
 "metadata": {
  "kernelspec": {
   "display_name": "Python 3 (ipykernel)",
   "language": "python",
   "name": "python3"
  },
  "language_info": {
   "codemirror_mode": {
    "name": "ipython",
    "version": 3
   },
   "file_extension": ".py",
   "mimetype": "text/x-python",
   "name": "python",
   "nbconvert_exporter": "python",
   "pygments_lexer": "ipython3",
   "version": "3.11.5"
  }
 },
 "nbformat": 4,
 "nbformat_minor": 5
}
